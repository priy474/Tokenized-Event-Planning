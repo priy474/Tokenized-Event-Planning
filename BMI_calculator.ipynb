{
  "nbformat": 4,
  "nbformat_minor": 0,
  "metadata": {
    "colab": {
      "provenance": [],
      "authorship_tag": "ABX9TyM2TZBxBAfbksA+JOjl85TB",
      "include_colab_link": true
    },
    "kernelspec": {
      "name": "python3",
      "display_name": "Python 3"
    },
    "language_info": {
      "name": "python"
    }
  },
  "cells": [
    {
      "cell_type": "markdown",
      "metadata": {
        "id": "view-in-github",
        "colab_type": "text"
      },
      "source": [
        "<a href=\"https://colab.research.google.com/github/priy474/Tokenized-Event-Planning/blob/main/BMI_calculator.ipynb\" target=\"_parent\"><img src=\"https://colab.research.google.com/assets/colab-badge.svg\" alt=\"Open In Colab\"/></a>"
      ]
    },
    {
      "cell_type": "code",
      "execution_count": 5,
      "metadata": {
        "colab": {
          "base_uri": "https://localhost:8080/",
          "height": 285
        },
        "id": "1kp260t8pXmI",
        "outputId": "aa96cdb0-4f1d-488b-b9cd-00fc052cba1f"
      },
      "outputs": [
        {
          "output_type": "stream",
          "name": "stdout",
          "text": [
            "Enter your weight in kg: 55\n",
            "Enter your height in cm: 60\n",
            "\n",
            "Your BMI is: 152.78\n",
            "You are classified as: Obese\n"
          ]
        },
        {
          "output_type": "display_data",
          "data": {
            "text/plain": [
              "<Figure size 800x150 with 1 Axes>"
            ],
            "image/png": "[encoded data removed]"
          },
          "metadata": {}
        }
      ],
      "source": [
        "\n",
        "import matplotlib.pyplot as plt\n",
        "def calculate_bmi(weight_kg, height_cm):\n",
        "    height_m = height_cm / 100\n",
        "    bmi = weight_kg / (height_m ** 2)\n",
        "    return round(bmi, 2)\n",
        "def bmi_category(bmi):\n",
        "    if bmi < 18.5:\n",
        "        return \"Underweight\"\n",
        "    elif bmi < 25:\n",
        "        return \"Normal weight\"\n",
        "    elif bmi < 30:\n",
        "        return \"Overweight\"\n",
        "    else:\n",
        "        return \"Obese\"\n",
        "\n",
        "weight = float(input(\"Enter your weight in kg: \"))\n",
        "height = float(input(\"Enter your height in cm: \"))\n",
        "\n",
        "\n",
        "bmi = calculate_bmi(weight, height)\n",
        "category = bmi_category(bmi)\n",
        "\n",
        "\n",
        "print(f\"\\nYour BMI is: {bmi}\")\n",
        "print(f\"You are classified as: {category}\")\n",
        "\n",
        "\n",
        "categories = ['Underweight', 'Normal', 'Overweight', 'Obese']\n",
        "colors = ['blue', 'green', 'orange', 'red']\n",
        "values = [18.5, 25, 30, 40]  # thresholds\n",
        "\n",
        "plt.figure(figsize=(8,1.5))\n",
        "plt.barh(['BMI'], [bmi], color='purple')\n",
        "plt.xlim(0, 40)\n",
        "for i, v in enumerate(values):\n",
        "    plt.axvline(x=v, color=colors[i], linestyle='--')\n",
        "plt.title('Your BMI in Context')\n",
        "plt.show()\n"
      ]
    }
  ]
}